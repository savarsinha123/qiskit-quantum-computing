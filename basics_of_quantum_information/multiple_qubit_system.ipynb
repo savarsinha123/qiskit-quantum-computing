{
 "cells": [
  {
   "cell_type": "markdown",
   "id": "63bca542",
   "metadata": {},
   "source": [
    "## Import Statements"
   ]
  },
  {
   "cell_type": "code",
   "execution_count": 9,
   "id": "6d80d895",
   "metadata": {},
   "outputs": [],
   "source": [
    "import numpy as np\n",
    "from qiskit.quantum_info import Statevector, Operator\n",
    "from IPython.display import Latex, Math"
   ]
  },
  {
   "cell_type": "markdown",
   "id": "2387aaac",
   "metadata": {},
   "source": [
    "# Tensor Products"
   ]
  },
  {
   "cell_type": "markdown",
   "id": "d708292f",
   "metadata": {},
   "source": [
    "### Defining the basis statevectors and taking the tensor product of them"
   ]
  },
  {
   "cell_type": "code",
   "execution_count": 56,
   "id": "fa3c7738",
   "metadata": {},
   "outputs": [],
   "source": [
    "def display_ket(statevector, symbol):\n",
    "    expression = Math(r'|' + symbol + r'\\rangle = ' + statevector.draw('latex').data)\n",
    "    display(expression)\n",
    "\n",
    "def display_tensor_product(statevector1, statevector2, symbol1, symbol2):\n",
    "    lhs = r'|' + symbol1 + r'\\rangle' + r'⊗' + r'|' + symbol2 + r'\\rangle = '\n",
    "    tensor_product = statevector1.tensor(statevector2)\n",
    "    rhs = tensor_product.draw('latex').data\n",
    "    expression = Math(lhs + rhs)\n",
    "    display(expression)\n",
    "    return tensor_product"
   ]
  },
  {
   "cell_type": "code",
   "execution_count": 47,
   "id": "80bed932",
   "metadata": {},
   "outputs": [
    {
     "data": {
      "text/latex": [
       "$\\displaystyle |0\\rangle⊗|1\\rangle = $$ |01\\rangle$"
      ],
      "text/plain": [
       "<IPython.core.display.Math object>"
      ]
     },
     "metadata": {},
     "output_type": "display_data"
    }
   ],
   "source": [
    "# Defining basis vectors and taking tensor product\n",
    "zero, one = Statevector.from_label('0'), Statevector.from_label('1')\n",
    "tensor_product = zero.tensor(one)\n",
    "\n",
    "# Printing the result\n",
    "display_tensor_product(zero, one, '0', '1')"
   ]
  },
  {
   "cell_type": "code",
   "execution_count": 57,
   "id": "82d11ded",
   "metadata": {},
   "outputs": [
    {
     "data": {
      "text/latex": [
       "$\\displaystyle |+\\rangle = $$\\frac{\\sqrt{2}}{2} |0\\rangle+\\frac{\\sqrt{2}}{2} |1\\rangle$"
      ],
      "text/plain": [
       "<IPython.core.display.Math object>"
      ]
     },
     "metadata": {},
     "output_type": "display_data"
    },
    {
     "data": {
      "text/latex": [
       "$\\displaystyle |\\psi\\rangle = $$\\frac{\\sqrt{2}}{2} |0\\rangle+\\frac{\\sqrt{2} i}{2} |1\\rangle$"
      ],
      "text/plain": [
       "<IPython.core.display.Math object>"
      ]
     },
     "metadata": {},
     "output_type": "display_data"
    },
    {
     "data": {
      "text/latex": [
       "$\\displaystyle |+\\rangle⊗|\\psi\\rangle = $$\\frac{1}{2} |00\\rangle+\\frac{i}{2} |01\\rangle+\\frac{1}{2} |10\\rangle+\\frac{i}{2} |11\\rangle$"
      ],
      "text/plain": [
       "<IPython.core.display.Math object>"
      ]
     },
     "metadata": {},
     "output_type": "display_data"
    }
   ],
   "source": [
    "# Getting |+> ket\n",
    "plus = Statevector.from_label('+')\n",
    "state = Statevector([1 / np.sqrt(2), 1j / np.sqrt(2)])\n",
    "\n",
    "# Printing kets and tensor product\n",
    "display_ket(plus, '+')\n",
    "display_ket(state, '\\psi')\n",
    "phi = display_tensor_product(plus, state, '+', '\\psi')"
   ]
  },
  {
   "cell_type": "code",
   "execution_count": 55,
   "id": "622c9367",
   "metadata": {},
   "outputs": [
    {
     "data": {
      "text/plain": [
       "Operator([[0.+0.j, 0.+0.j, 1.+0.j, 0.+0.j],\n",
       "          [0.+0.j, 0.+0.j, 0.+0.j, 1.+0.j],\n",
       "          [1.+0.j, 0.+0.j, 0.+0.j, 0.+0.j],\n",
       "          [0.+0.j, 1.+0.j, 0.+0.j, 0.+0.j]],\n",
       "         input_dims=(2, 2), output_dims=(2, 2))"
      ]
     },
     "execution_count": 55,
     "metadata": {},
     "output_type": "execute_result"
    }
   ],
   "source": [
    "# Tensor Product with operators\n",
    "X = Operator([ [0, 1],\n",
    "              [1, 0] ])\n",
    "I = Operator([ [1, 0],\n",
    "              [0, 1] ])\n",
    "X.tensor(I)"
   ]
  },
  {
   "cell_type": "code",
   "execution_count": 66,
   "id": "470e41e4",
   "metadata": {},
   "outputs": [
    {
     "data": {
      "text/latex": [
       "$\\displaystyle |\\phi\\rangle = $$\\frac{1}{2} |00\\rangle+\\frac{i}{2} |01\\rangle+\\frac{1}{2} |10\\rangle+\\frac{i}{2} |11\\rangle$"
      ],
      "text/plain": [
       "<IPython.core.display.Math object>"
      ]
     },
     "metadata": {},
     "output_type": "display_data"
    },
    {
     "data": {
      "text/latex": [
       "$\\displaystyle |\\phi ' \\rangle = $$\\frac{i}{2} |00\\rangle+\\frac{1}{2} |01\\rangle+\\frac{i}{2} |10\\rangle+\\frac{1}{2} |11\\rangle$"
      ],
      "text/plain": [
       "<IPython.core.display.Math object>"
      ]
     },
     "metadata": {},
     "output_type": "display_data"
    }
   ],
   "source": [
    "display_ket(phi, '\\phi')\n",
    "display_ket(phi.evolve(I ^ X), '\\phi \\' ')"
   ]
  },
  {
   "cell_type": "code",
   "execution_count": 71,
   "id": "0638398f",
   "metadata": {},
   "outputs": [
    {
     "data": {
      "text/latex": [
       "$\\displaystyle |\\phi_0\\rangle = $$\\frac{1}{2} |00\\rangle+\\frac{i}{2} |01\\rangle+\\frac{i}{2} |10\\rangle+\\frac{1}{2} |11\\rangle$"
      ],
      "text/plain": [
       "<IPython.core.display.Math object>"
      ]
     },
     "metadata": {},
     "output_type": "display_data"
    }
   ],
   "source": [
    "CNOT = Operator([ [1, 0, 0, 0],\n",
    "                 [0, 1, 0, 0],\n",
    "                 [0, 0, 0, 1],\n",
    "                 [0, 0, 1, 0] ])\n",
    "display_ket(phi.evolve(CNOT), '\\phi_0')"
   ]
  },
  {
   "cell_type": "markdown",
   "id": "2710e1ff",
   "metadata": {},
   "source": [
    "### CHALLENGE: Can you create each of the Bell states using only single-qubit state vectors and the CNOT operator?"
   ]
  },
  {
   "cell_type": "markdown",
   "id": "afe3db4e",
   "metadata": {},
   "source": [
    "We can use the fact that the CNOT = CNOT$^*$ = CNOT$^{-1}$ to find the state before CNOT is applied to get each Bell state.\n",
    "\n",
    "$$\\text{CNOT} | \\phi ^+ \\rangle = \n",
    "\\begin{pmatrix}\n",
    "1 & 0 & 0 & 0 \\\\\n",
    "0 & 1 & 0 & 0 \\\\\n",
    "0 & 0 & 0 & 1 \\\\\n",
    "0 & 0 & 1 & 0 \\\\\n",
    "\\end{pmatrix}\n",
    "\\begin{pmatrix}\n",
    "\\frac{1}{\\sqrt{2}} \\\\\n",
    "0 \\\\\n",
    "0 \\\\\n",
    "\\frac{1}{\\sqrt{2}} \\\\\n",
    "\\end{pmatrix}\n",
    "= \\begin{pmatrix}\n",
    "\\frac{1}{\\sqrt{2}} \\\\\n",
    "0 \\\\\n",
    "\\frac{1}{\\sqrt{2}} \\\\\n",
    "0 \\\\\n",
    "\\end{pmatrix}\n",
    "= \\frac{1}{\\sqrt{2}} | 00 \\rangle + \\frac{1}{\\sqrt{2}} | 10 \\rangle = (\\frac{1}{\\sqrt{2}} | 0 \\rangle + \\frac{1}{\\sqrt{2}} | 1 \\rangle) ⊗ | 0 \\rangle = |+\\rangle |0 \\rangle$$\n",
    "\n",
    "$$\\text{CNOT} | \\phi ^- \\rangle = \n",
    "\\begin{pmatrix}\n",
    "1 & 0 & 0 & 0 \\\\\n",
    "0 & 1 & 0 & 0 \\\\\n",
    "0 & 0 & 0 & 1 \\\\\n",
    "0 & 0 & 1 & 0 \\\\\n",
    "\\end{pmatrix}\n",
    "\\begin{pmatrix}\n",
    "\\frac{1}{\\sqrt{2}} \\\\\n",
    "0 \\\\\n",
    "0 \\\\\n",
    "-\\frac{1}{\\sqrt{2}} \\\\\n",
    "\\end{pmatrix}\n",
    "= \\begin{pmatrix}\n",
    "\\frac{1}{\\sqrt{2}} \\\\\n",
    "0 \\\\\n",
    "-\\frac{1}{\\sqrt{2}} \\\\\n",
    "0 \\\\\n",
    "\\end{pmatrix}\n",
    "= \\frac{1}{\\sqrt{2}} | 00 \\rangle - \\frac{1}{\\sqrt{2}} | 10 \\rangle = (\\frac{1}{\\sqrt{2}} | 0 \\rangle - \\frac{1}{\\sqrt{2}} | 1 \\rangle) ⊗ | 0 \\rangle = |-\\rangle |0 \\rangle$$\n",
    "\n",
    "$$\\text{CNOT} | \\psi ^+ \\rangle = \n",
    "\\begin{pmatrix}\n",
    "1 & 0 & 0 & 0 \\\\\n",
    "0 & 1 & 0 & 0 \\\\\n",
    "0 & 0 & 0 & 1 \\\\\n",
    "0 & 0 & 1 & 0 \\\\\n",
    "\\end{pmatrix}\n",
    "\\begin{pmatrix}\n",
    "0 \\\\\n",
    "\\frac{1}{\\sqrt{2}} \\\\\n",
    "\\frac{1}{\\sqrt{2}} \\\\\n",
    "0 \\\\\n",
    "\\end{pmatrix}\n",
    "= \\begin{pmatrix}\n",
    "0 \\\\\n",
    "\\frac{1}{\\sqrt{2}} \\\\\n",
    "0 \\\\\n",
    "\\frac{1}{\\sqrt{2}} \\\\\n",
    "\\end{pmatrix}\n",
    "= \\frac{1}{\\sqrt{2}} | 01 \\rangle + \\frac{1}{\\sqrt{2}} | 11 \\rangle = (\\frac{1}{\\sqrt{2}} | 0 \\rangle + \\frac{1}{\\sqrt{2}} | 1 \\rangle) ⊗ | 1 \\rangle = |+\\rangle |1 \\rangle$$\n",
    "\n",
    "$$\\text{CNOT} | \\psi ^- \\rangle = \n",
    "\\begin{pmatrix}\n",
    "1 & 0 & 0 & 0 \\\\\n",
    "0 & 1 & 0 & 0 \\\\\n",
    "0 & 0 & 0 & 1 \\\\\n",
    "0 & 0 & 1 & 0 \\\\\n",
    "\\end{pmatrix}\n",
    "\\begin{pmatrix}\n",
    "0 \\\\\n",
    "\\frac{1}{\\sqrt{2}} \\\\\n",
    "-\\frac{1}{\\sqrt{2}} \\\\\n",
    "0 \\\\\n",
    "\\end{pmatrix}\n",
    "= \\begin{pmatrix}\n",
    "0 \\\\\n",
    "-\\frac{1}{\\sqrt{2}} \\\\\n",
    "0 \\\\\n",
    "\\frac{1}{\\sqrt{2}} \\\\\n",
    "\\end{pmatrix}\n",
    "= \\frac{1}{\\sqrt{2}} | 01 \\rangle - \\frac{1}{\\sqrt{2}} | 11 \\rangle = (\\frac{1}{\\sqrt{2}} | 0 \\rangle - \\frac{1}{\\sqrt{2}} | 1 \\rangle) ⊗ | 1 \\rangle = |-\\rangle |1 \\rangle$$\n",
    "\n",
    "Altogether we have\n",
    "\n",
    "$$| \\phi ^+ \\rangle = \\text{CNOT}| + \\rangle | 0 \\rangle$$\n",
    "$$| \\phi ^- \\rangle = \\text{CNOT}| - \\rangle | 0 \\rangle$$\n",
    "$$| \\psi ^+ \\rangle = \\text{CNOT}| + \\rangle | 1 \\rangle$$\n",
    "$$| \\psi ^- \\rangle = \\text{CNOT}| - \\rangle | 1 \\rangle$$"
   ]
  },
  {
   "cell_type": "markdown",
   "id": "1e56f541",
   "metadata": {},
   "source": [
    "## Partial Measurement"
   ]
  },
  {
   "cell_type": "code",
   "execution_count": 75,
   "id": "dda82ab5",
   "metadata": {},
   "outputs": [
    {
     "data": {
      "text/latex": [
       "$\\displaystyle |W\\rangle = $$\\frac{\\sqrt{3}}{3} |001\\rangle+\\frac{\\sqrt{3}}{3} |010\\rangle+\\frac{\\sqrt{3}}{3} |100\\rangle$"
      ],
      "text/plain": [
       "<IPython.core.display.Math object>"
      ]
     },
     "metadata": {},
     "output_type": "display_data"
    }
   ],
   "source": [
    "W = Statevector([0, 1, 1, 0, 1, 0, 0, 0] / np.sqrt(3))\n",
    "display_ket(W, 'W')"
   ]
  },
  {
   "cell_type": "code",
   "execution_count": 95,
   "id": "7112bcf2",
   "metadata": {},
   "outputs": [
    {
     "name": "stdout",
     "output_type": "stream",
     "text": [
      "Measured: 1\n",
      "State after measurement:\n"
     ]
    },
    {
     "data": {
      "text/latex": [
       "$\\displaystyle |W_0\\rangle = $$ |001\\rangle$"
      ],
      "text/plain": [
       "<IPython.core.display.Math object>"
      ]
     },
     "metadata": {},
     "output_type": "display_data"
    },
    {
     "name": "stdout",
     "output_type": "stream",
     "text": [
      "Measured: 0\n",
      "State after measurement:\n"
     ]
    },
    {
     "data": {
      "text/latex": [
       "$\\displaystyle |W_0\\rangle = $$\\frac{\\sqrt{2}}{2} |010\\rangle+\\frac{\\sqrt{2}}{2} |100\\rangle$"
      ],
      "text/plain": [
       "<IPython.core.display.Math object>"
      ]
     },
     "metadata": {},
     "output_type": "display_data"
    },
    {
     "name": "stdout",
     "output_type": "stream",
     "text": [
      "Measured: 1\n",
      "State after measurement:\n"
     ]
    },
    {
     "data": {
      "text/latex": [
       "$\\displaystyle |W_0\\rangle = $$ |001\\rangle$"
      ],
      "text/plain": [
       "<IPython.core.display.Math object>"
      ]
     },
     "metadata": {},
     "output_type": "display_data"
    },
    {
     "name": "stdout",
     "output_type": "stream",
     "text": [
      "Measured: 0\n",
      "State after measurement:\n"
     ]
    },
    {
     "data": {
      "text/latex": [
       "$\\displaystyle |W_0\\rangle = $$\\frac{\\sqrt{2}}{2} |010\\rangle+\\frac{\\sqrt{2}}{2} |100\\rangle$"
      ],
      "text/plain": [
       "<IPython.core.display.Math object>"
      ]
     },
     "metadata": {},
     "output_type": "display_data"
    },
    {
     "name": "stdout",
     "output_type": "stream",
     "text": [
      "Measured: 0\n",
      "State after measurement:\n"
     ]
    },
    {
     "data": {
      "text/latex": [
       "$\\displaystyle |W_0\\rangle = $$\\frac{\\sqrt{2}}{2} |010\\rangle+\\frac{\\sqrt{2}}{2} |100\\rangle$"
      ],
      "text/plain": [
       "<IPython.core.display.Math object>"
      ]
     },
     "metadata": {},
     "output_type": "display_data"
    },
    {
     "name": "stdout",
     "output_type": "stream",
     "text": [
      "Measured: 0\n",
      "State after measurement:\n"
     ]
    },
    {
     "data": {
      "text/latex": [
       "$\\displaystyle |W_0\\rangle = $$\\frac{\\sqrt{2}}{2} |010\\rangle+\\frac{\\sqrt{2}}{2} |100\\rangle$"
      ],
      "text/plain": [
       "<IPython.core.display.Math object>"
      ]
     },
     "metadata": {},
     "output_type": "display_data"
    },
    {
     "name": "stdout",
     "output_type": "stream",
     "text": [
      "Measured: 0\n",
      "State after measurement:\n"
     ]
    },
    {
     "data": {
      "text/latex": [
       "$\\displaystyle |W_0\\rangle = $$\\frac{\\sqrt{2}}{2} |010\\rangle+\\frac{\\sqrt{2}}{2} |100\\rangle$"
      ],
      "text/plain": [
       "<IPython.core.display.Math object>"
      ]
     },
     "metadata": {},
     "output_type": "display_data"
    },
    {
     "name": "stdout",
     "output_type": "stream",
     "text": [
      "Measured: 0\n",
      "State after measurement:\n"
     ]
    },
    {
     "data": {
      "text/latex": [
       "$\\displaystyle |W_0\\rangle = $$\\frac{\\sqrt{2}}{2} |010\\rangle+\\frac{\\sqrt{2}}{2} |100\\rangle$"
      ],
      "text/plain": [
       "<IPython.core.display.Math object>"
      ]
     },
     "metadata": {},
     "output_type": "display_data"
    },
    {
     "name": "stdout",
     "output_type": "stream",
     "text": [
      "Measured: 1\n",
      "State after measurement:\n"
     ]
    },
    {
     "data": {
      "text/latex": [
       "$\\displaystyle |W_0\\rangle = $$ |001\\rangle$"
      ],
      "text/plain": [
       "<IPython.core.display.Math object>"
      ]
     },
     "metadata": {},
     "output_type": "display_data"
    },
    {
     "name": "stdout",
     "output_type": "stream",
     "text": [
      "Measured: 1\n",
      "State after measurement:\n"
     ]
    },
    {
     "data": {
      "text/latex": [
       "$\\displaystyle |W_0\\rangle = $$ |001\\rangle$"
      ],
      "text/plain": [
       "<IPython.core.display.Math object>"
      ]
     },
     "metadata": {},
     "output_type": "display_data"
    }
   ],
   "source": [
    "for i in range(10):\n",
    "    result, new_sv = W.measure([0])  # measure qubit 0\n",
    "    print(f'Measured: {result}\\nState after measurement:')\n",
    "    display_ket(new_sv, 'W_0')"
   ]
  },
  {
   "cell_type": "markdown",
   "id": "704c4bcc",
   "metadata": {},
   "source": [
    "### Say you applied an H-gate to the leftmost qubit of the W-state before measuring it. What would the probabilities of the two outcomes be? And what would the resulting state of the other qubits be for each of these outcomes?"
   ]
  },
  {
   "cell_type": "markdown",
   "id": "75b3548d",
   "metadata": {},
   "source": [
    "$$M = H ⊗ I ⊗ I = \\begin{pmatrix}\n",
    "\\frac{1}{\\sqrt{2}} & 0 & 0 & 0 & \\frac{1}{\\sqrt{2}} & 0 & 0 & 0 \\\\\n",
    "0 & \\frac{1}{\\sqrt{2}} & 0 & 0 & 0 & \\frac{1}{\\sqrt{2}} & 0 & 0 \\\\\n",
    "0 & 0 & \\frac{1}{\\sqrt{2}} & 0 & 0 & 0 & \\frac{1}{\\sqrt{2}} & 0 \\\\\n",
    "0 & 0 & 0 & \\frac{1}{\\sqrt{2}} & 0 & 0 & 0 & \\frac{1}{\\sqrt{2}} \\\\\n",
    "\\frac{1}{\\sqrt{2}} & 0 & 0 & 0 & -\\frac{1}{\\sqrt{2}} & 0 & 0 & 0 \\\\\n",
    "0 & \\frac{1}{\\sqrt{2}} & 0 & 0 & 0 & -\\frac{1}{\\sqrt{2}} & 0 & 0 \\\\\n",
    "0 & 0 & \\frac{1}{\\sqrt{2}} & 0 & 0 & 0 & -\\frac{1}{\\sqrt{2}} & 0 \\\\\n",
    "0 & 0 & 0 & \\frac{1}{\\sqrt{2}} & 0 & 0 & 0 & -\\frac{1}{\\sqrt{2}} \\\\\n",
    "\\end{pmatrix}$$\n",
    "\n",
    "$$M | W \\rangle = \n",
    "\\begin{pmatrix}\n",
    "\\frac{1}{\\sqrt{2}} & 0 & 0 & 0 & \\frac{1}{\\sqrt{2}} & 0 & 0 & 0 \\\\\n",
    "0 & \\frac{1}{\\sqrt{2}} & 0 & 0 & 0 & \\frac{1}{\\sqrt{2}} & 0 & 0 \\\\\n",
    "0 & 0 & \\frac{1}{\\sqrt{2}} & 0 & 0 & 0 & \\frac{1}{\\sqrt{2}} & 0 \\\\\n",
    "0 & 0 & 0 & \\frac{1}{\\sqrt{2}} & 0 & 0 & 0 & \\frac{1}{\\sqrt{2}} \\\\\n",
    "\\frac{1}{\\sqrt{2}} & 0 & 0 & 0 & -\\frac{1}{\\sqrt{2}} & 0 & 0 & 0 \\\\\n",
    "0 & \\frac{1}{\\sqrt{2}} & 0 & 0 & 0 & -\\frac{1}{\\sqrt{2}} & 0 & 0 \\\\\n",
    "0 & 0 & \\frac{1}{\\sqrt{2}} & 0 & 0 & 0 & -\\frac{1}{\\sqrt{2}} & 0 \\\\\n",
    "0 & 0 & 0 & \\frac{1}{\\sqrt{2}} & 0 & 0 & 0 & -\\frac{1}{\\sqrt{2}} \\\\\n",
    "\\end{pmatrix}\n",
    "\\begin{pmatrix}\n",
    "0 \\\\\n",
    "\\frac{1}{\\sqrt{3}} \\\\\n",
    "\\frac{1}{\\sqrt{3}} \\\\\n",
    "0 \\\\\n",
    "\\frac{1}{\\sqrt{3}} \\\\\n",
    "0 \\\\\n",
    "0 \\\\\n",
    "0 \\\\\n",
    "\\end{pmatrix} = \n",
    "\\begin{pmatrix}\n",
    "\\frac{1}{\\sqrt{6}} \\\\\n",
    "\\frac{1}{\\sqrt{6}} \\\\\n",
    "\\frac{1}{\\sqrt{6}} \\\\\n",
    "0 \\\\\n",
    "-\\frac{1}{\\sqrt{6}} \\\\\n",
    "\\frac{1}{\\sqrt{6}} \\\\\n",
    "\\frac{1}{\\sqrt{6}} \\\\\n",
    "0 \\\\\n",
    "\\end{pmatrix}$$\n",
    "\n",
    "$$M|W \\rangle = | 0 \\rangle ⊗ (\\frac{1}{\\sqrt{6}} | 00 \\rangle + \\frac{1}{\\sqrt{6}} | 01 \\rangle + \\frac{1}{\\sqrt{6}} | 10 \\rangle) + | 1 \\rangle ⊗ (-\\frac{1}{\\sqrt{6}} | 00 \\rangle + \\frac{1}{\\sqrt{6}} | 01 \\rangle + \\frac{1}{\\sqrt{6}} | 10 \\rangle)$$\n",
    "\n",
    "If the first qubit is measured as 0\n",
    "$$M|W \\rangle = \\frac{1}{\\sqrt{3}} | 000 \\rangle + \\frac{1}{\\sqrt{3}} | 001 \\rangle + \\frac{1}{\\sqrt{3}} | 010 \\rangle$$\n",
    "\n",
    "If the first qubit is measured as 1\n",
    "$$M|W \\rangle = -\\frac{1}{\\sqrt{3}} | 100 \\rangle + \\frac{1}{\\sqrt{3}} | 101 \\rangle + \\frac{1}{\\sqrt{3}} | 110 \\rangle$$"
   ]
  }
 ],
 "metadata": {
  "kernelspec": {
   "display_name": "Python 3 (ipykernel)",
   "language": "python",
   "name": "python3"
  },
  "language_info": {
   "codemirror_mode": {
    "name": "ipython",
    "version": 3
   },
   "file_extension": ".py",
   "mimetype": "text/x-python",
   "name": "python",
   "nbconvert_exporter": "python",
   "pygments_lexer": "ipython3",
   "version": "3.9.13"
  }
 },
 "nbformat": 4,
 "nbformat_minor": 5
}
