{
 "cells": [
  {
   "cell_type": "code",
   "execution_count": 46,
   "id": "2c673d2e",
   "metadata": {},
   "outputs": [],
   "source": [
    "import numpy as np\n",
    "from qiskit.quantum_info import Statevector\n",
    "from qiskit.quantum_info import Operator\n",
    "from qiskit.visualization import plot_histogram\n",
    "from qiskit import QuantumCircuit"
   ]
  },
  {
   "cell_type": "markdown",
   "id": "d9de395a",
   "metadata": {},
   "source": [
    "### Creating statevector using qiskit"
   ]
  },
  {
   "cell_type": "code",
   "execution_count": 10,
   "id": "78d5845a",
   "metadata": {},
   "outputs": [],
   "source": [
    "u = Statevector([1/np.sqrt(2), 1/np.sqrt(2)])\n",
    "v = Statevector([(1+2.j)/3, -2/3])\n",
    "w = Statevector([1/3, 2/3])"
   ]
  },
  {
   "cell_type": "markdown",
   "id": "9cc9fbd6",
   "metadata": {},
   "source": [
    "### Different ways of displaying vectors"
   ]
  },
  {
   "cell_type": "code",
   "execution_count": 5,
   "id": "5c95a43a",
   "metadata": {},
   "outputs": [
    {
     "data": {
      "text/latex": [
       "$$\\frac{\\sqrt{2}}{2} |0\\rangle+\\frac{\\sqrt{2}}{2} |1\\rangle$$"
      ],
      "text/plain": [
       "<IPython.core.display.Latex object>"
      ]
     },
     "metadata": {},
     "output_type": "display_data"
    },
    {
     "data": {
      "text/plain": [
       "[ 0.33333333+0.66666667j,-0.66666667+0.j        ]"
      ]
     },
     "metadata": {},
     "output_type": "display_data"
    }
   ],
   "source": [
    "display(u.draw('latex'))\n",
    "display(v.draw('text'))"
   ]
  },
  {
   "cell_type": "markdown",
   "id": "56cc0faf",
   "metadata": {},
   "source": [
    "### Measuring the state of vector v"
   ]
  },
  {
   "cell_type": "code",
   "execution_count": 25,
   "id": "b843fe26",
   "metadata": {},
   "outputs": [
    {
     "data": {
      "text/plain": [
       "('0',\n",
       " Statevector([0.4472136+0.89442719j, 0.       +0.j        ],\n",
       "             dims=(2,)))"
      ]
     },
     "execution_count": 25,
     "metadata": {},
     "output_type": "execute_result"
    }
   ],
   "source": [
    "v.measure()"
   ]
  },
  {
   "cell_type": "markdown",
   "id": "86affa17",
   "metadata": {},
   "source": [
    "### Simulating the measurement of v's state"
   ]
  },
  {
   "cell_type": "code",
   "execution_count": 40,
   "id": "56a75eea",
   "metadata": {},
   "outputs": [
    {
     "data": {
      "image/png": "[encoded data removed]",
      "text/plain": [
       "<Figure size 700x500 with 1 Axes>"
      ]
     },
     "metadata": {},
     "output_type": "display_data"
    },
    {
     "name": "stdout",
     "output_type": "stream",
     "text": [
      "[P(0), P(1)] given by\n"
     ]
    },
    {
     "data": {
      "text/plain": [
       "array([0.55555556, 0.44444444])"
      ]
     },
     "metadata": {},
     "output_type": "display_data"
    }
   ],
   "source": [
    "# Simulation\n",
    "statistics = v.sample_counts(100000)\n",
    "display(plot_histogram(statistics))\n",
    "\n",
    "# Actual probabilities\n",
    "print('[P(0), P(1)] given by')\n",
    "display(v.probabilities())"
   ]
  },
  {
   "cell_type": "markdown",
   "id": "267cdb68",
   "metadata": {},
   "source": [
    "### Operators/Matrix Multiplication"
   ]
  },
  {
   "cell_type": "code",
   "execution_count": 43,
   "id": "593542b8",
   "metadata": {},
   "outputs": [],
   "source": [
    "# Defining key operators\n",
    "# X, Y, Z: Pauli Matrices\n",
    "# H: Hadamard Operator\n",
    "# S, T: Phase Operators\n",
    "X = Operator([ [0,1],[1,0] ])\n",
    "Y = Operator([ [0,-1.j],[1.j,0] ])\n",
    "Z = Operator([ [1,0],[0,-1] ])\n",
    "H = Operator([ [1/np.sqrt(2),1/np.sqrt(2)],[1/np.sqrt(2),-1/np.sqrt(2)] ])\n",
    "S = Operator([ [1,0],[0,1.j] ])\n",
    "T = Operator([ [1,0],[0,(1+1.j)/np.sqrt(2)] ])"
   ]
  },
  {
   "cell_type": "code",
   "execution_count": 58,
   "id": "1d632e9d",
   "metadata": {},
   "outputs": [
    {
     "data": {
      "text/latex": [
       "$$(0.3535533906 + 0.1464466094 i) |0\\rangle+(0.8535533906 - 0.3535533906 i) |1\\rangle$$"
      ],
      "text/plain": [
       "<IPython.core.display.Latex object>"
      ]
     },
     "execution_count": 58,
     "metadata": {},
     "output_type": "execute_result"
    }
   ],
   "source": [
    "# Defining statevector as |0>\n",
    "v = Statevector([0, 1j])\n",
    "\n",
    "# Applying the linear transformation ZTHTH to vector v \n",
    "v = v.evolve(H)\n",
    "v = v.evolve(T)\n",
    "v = v.evolve(H)\n",
    "v = v.evolve(T)\n",
    "v = v.evolve(Z)\n",
    "\n",
    "v.draw('latex')"
   ]
  },
  {
   "cell_type": "markdown",
   "id": "c3ddc02f",
   "metadata": {},
   "source": [
    "### Creating circuit that acts on one qubit"
   ]
  },
  {
   "cell_type": "code",
   "execution_count": 47,
   "id": "dacbd067",
   "metadata": {},
   "outputs": [
    {
     "data": {
      "text/html": [
       "<pre style=\"word-wrap: normal;white-space: pre;background: #fff0;line-height: 1.1;font-family: &quot;Courier New&quot;,Courier,monospace\">   ┌───┐┌───┐┌───┐┌───┐┌───┐\n",
       "q: ┤ H ├┤ T ├┤ H ├┤ T ├┤ Z ├\n",
       "   └───┘└───┘└───┘└───┘└───┘</pre>"
      ],
      "text/plain": [
       "   ┌───┐┌───┐┌───┐┌───┐┌───┐\n",
       "q: ┤ H ├┤ T ├┤ H ├┤ T ├┤ Z ├\n",
       "   └───┘└───┘└───┘└───┘└───┘"
      ]
     },
     "execution_count": 47,
     "metadata": {},
     "output_type": "execute_result"
    }
   ],
   "source": [
    "# Create a circuit with one qubit\n",
    "circuit = QuantumCircuit(1)\n",
    "\n",
    "# Create a sequence of gates which all act on the qubit with index 0\n",
    "circuit.h(0)\n",
    "circuit.t(0)\n",
    "circuit.h(0)\n",
    "circuit.t(0)\n",
    "circuit.z(0)\n",
    "\n",
    "circuit.draw()"
   ]
  },
  {
   "cell_type": "code",
   "execution_count": 64,
   "id": "c48b7ab3",
   "metadata": {},
   "outputs": [
    {
     "name": "stdout",
     "output_type": "stream",
     "text": [
      "Original ket:\n"
     ]
    },
    {
     "data": {
      "text/latex": [
       "$$i |1\\rangle$$"
      ],
      "text/plain": [
       "<IPython.core.display.Latex object>"
      ]
     },
     "metadata": {},
     "output_type": "display_data"
    },
    {
     "name": "stdout",
     "output_type": "stream",
     "text": [
      "Post transformation ket:\n"
     ]
    },
    {
     "data": {
      "text/latex": [
       "$$(0.3535533906 + 0.1464466094 i) |0\\rangle+(0.8535533906 - 0.3535533906 i) |1\\rangle$$"
      ],
      "text/plain": [
       "<IPython.core.display.Latex object>"
      ]
     },
     "metadata": {},
     "output_type": "display_data"
    }
   ],
   "source": [
    "ket = Statevector([0, 1j])\n",
    "print('Original ket:')\n",
    "display(ket.draw('latex'))\n",
    "\n",
    "print('Post transformation ket:')\n",
    "evolved_ket = ket.evolve(circuit)\n",
    "display(evolved_ket.draw('latex'))"
   ]
  },
  {
   "cell_type": "markdown",
   "id": "d086c5cc",
   "metadata": {},
   "source": [
    "### Simulating the process of taking $i |1>$ and having it go through the circuit before and then measuring the state of said qubit (this whole process is repeated 10000 times)"
   ]
  },
  {
   "cell_type": "code",
   "execution_count": 66,
   "id": "c756cd82",
   "metadata": {},
   "outputs": [
    {
     "data": {
      "image/png": "[encoded data removed]",
      "text/plain": [
       "<Figure size 700x500 with 1 Axes>"
      ]
     },
     "metadata": {},
     "output_type": "display_data"
    }
   ],
   "source": [
    "# Simulating measurement of the original state after undergoing the circuit before 10000 times\n",
    "stats = evolved_ket.sample_counts(10000)\n",
    "display(plot_histogram(stats))"
   ]
  },
  {
   "cell_type": "code",
   "execution_count": null,
   "id": "59afa468",
   "metadata": {},
   "outputs": [],
   "source": []
  }
 ],
 "metadata": {
  "kernelspec": {
   "display_name": "Python 3 (ipykernel)",
   "language": "python",
   "name": "python3"
  },
  "language_info": {
   "codemirror_mode": {
    "name": "ipython",
    "version": 3
   },
   "file_extension": ".py",
   "mimetype": "text/x-python",
   "name": "python",
   "nbconvert_exporter": "python",
   "pygments_lexer": "ipython3",
   "version": "3.9.13"
  }
 },
 "nbformat": 4,
 "nbformat_minor": 5
}
