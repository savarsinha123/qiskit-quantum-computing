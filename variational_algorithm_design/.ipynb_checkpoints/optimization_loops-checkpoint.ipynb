{
 "cells": [
  {
   "cell_type": "markdown",
   "id": "9a1d5571-cdf1-4823-b7f3-13959bb8d4cc",
   "metadata": {},
   "source": [
    "## Import Statements"
   ]
  },
  {
   "cell_type": "code",
   "execution_count": 8,
   "id": "6e0fd888-14aa-4091-83d2-244de2eb7d31",
   "metadata": {},
   "outputs": [],
   "source": [
    "from qiskit.circuit import QuantumCircuit, Parameter\n",
    "from qiskit.circuit.library import TwoLocal\n",
    "from qiskit.circuit.library import ZZFeatureMap\n",
    "from qiskit.circuit.library import NLocal, CCXGate, CRZGate, RXGate\n",
    "from qiskit.circuit.library import EfficientSU2\n",
    "from qiskit.circuit.library import QAOAAnsatz\n",
    "from qiskit.quantum_info import SparsePauliOp\n",
    "from qiskit.primitives import StatevectorSampler, StatevectorEstimator\n",
    "from qiskit.result import QuasiDistribution\n",
    "from qiskit.circuit.library import IGate, ZGate, XGate, YGate\n",
    "from qiskit_ibm_runtime import QiskitRuntimeService, Options, Session, EstimatorV2 as Estimator\n",
    "from qiskit.transpiler.preset_passmanagers import generate_preset_pass_manager\n",
    "from qiskit_aer import AerSimulator\n",
    "import numpy as np\n",
    "import matplotlib.pyplot as plt\n",
    "from math import pi\n",
    "from scipy.optimize import minimize\n",
    "import rustworkx as rx\n",
    "from rustworkx.visualization import mpl_draw"
   ]
  },
  {
   "cell_type": "markdown",
   "id": "e8573014-6bfe-4285-b25c-310dbb11a05d",
   "metadata": {},
   "source": [
    "## Optimization Loops"
   ]
  },
  {
   "cell_type": "markdown",
   "id": "eed1ce8e-59fc-457e-8d42-65c35041ea54",
   "metadata": {},
   "source": [
    "To showcase optimization loops, we will consider the following ansatz and cost function."
   ]
  },
  {
   "cell_type": "code",
   "execution_count": 3,
   "id": "a8379f78-0b12-43f7-a384-42ea72ccc79a",
   "metadata": {},
   "outputs": [
    {
     "data": {
      "image/png": "[encoded data removed]",
      "text/plain": [
       "<Figure size 621.739x200.667 with 1 Axes>"
      ]
     },
     "execution_count": 3,
     "metadata": {},
     "output_type": "execute_result"
    }
   ],
   "source": [
    "theta_list = (2 * np.pi * np.random.rand(1, 8)).tolist()\n",
    "observable = SparsePauliOp.from_list([(\"XX\", 1), (\"YY\", -3)])\n",
    "\n",
    "reference_circuit = QuantumCircuit(2)\n",
    "reference_circuit.x(0)\n",
    "\n",
    "variational_form = TwoLocal(\n",
    "    2,\n",
    "    rotation_blocks=[\"rz\", \"ry\"],\n",
    "    entanglement_blocks=\"cx\",\n",
    "    entanglement=\"linear\",\n",
    "    reps=1,\n",
    ")\n",
    "ansatz = reference_circuit.compose(variational_form)\n",
    "\n",
    "ansatz.decompose().draw('mpl')"
   ]
  },
  {
   "cell_type": "code",
   "execution_count": 4,
   "id": "7330329f-5077-4d30-81e6-d616ad1df9f5",
   "metadata": {},
   "outputs": [],
   "source": [
    "def cost_func_vqe(params, ansatz, hamiltonian, estimator):\n",
    "    \"\"\"Return estimate of energy from estimator\n",
    "\n",
    "    Parameters:\n",
    "        params (ndarray): Array of ansatz parameters\n",
    "        ansatz (QuantumCircuit): Parameterized ansatz circuit\n",
    "        hamiltonian (SparsePauliOp): Operator representation of Hamiltonian\n",
    "        estimator (Estimator): Estimator primitive instance\n",
    "\n",
    "    Returns:\n",
    "        float: Energy estimate\n",
    "    \"\"\"\n",
    "    pub = (ansatz, hamiltonian, params)\n",
    "    cost = estimator.run([pub]).result()[0].data.evs\n",
    "    return cost"
   ]
  },
  {
   "cell_type": "code",
   "execution_count": 5,
   "id": "9b8e3fe0-fc9e-4d94-8754-9a55ef8342fc",
   "metadata": {},
   "outputs": [],
   "source": [
    "from qiskit.primitives import StatevectorEstimator\n",
    "estimator = StatevectorEstimator()"
   ]
  },
  {
   "cell_type": "markdown",
   "id": "23fc1c80-5c5a-4916-8ca2-874e5f0a036c",
   "metadata": {},
   "source": [
    "### Local Optimizers"
   ]
  },
  {
   "cell_type": "markdown",
   "id": "04d1ee92-e279-4360-87d0-8b9b6b556203",
   "metadata": {},
   "source": [
    "Local optimizers work by searching for a point that minimizes the cost function. This is done by choosing an initial point and maneuvering around the parameter space based on the values of the cost function calculated."
   ]
  },
  {
   "cell_type": "code",
   "execution_count": 7,
   "id": "612614d1-7d53-4ff7-9a98-64b01bf3a099",
   "metadata": {},
   "outputs": [
    {
     "data": {
      "text/plain": [
       " message: Optimization terminated successfully\n",
       " success: True\n",
       "  status: 0\n",
       "     fun: -3.999999996450292\n",
       "       x: [ 1.000e+00  1.000e+00 -1.571e+00 -4.563e-05 -1.207e+00\n",
       "           -1.935e+00  4.079e-01 -4.079e-01]\n",
       "     nit: 12\n",
       "     jac: [ 1.192e-07  0.000e+00 -7.958e-04  2.544e-04  1.381e-03\n",
       "            1.381e-03  5.431e-04  5.431e-04]\n",
       "    nfev: 112\n",
       "    njev: 12"
      ]
     },
     "execution_count": 7,
     "metadata": {},
     "output_type": "execute_result"
    }
   ],
   "source": [
    "# SciPy minimizer routine\n",
    "x0 = np.ones(8)\n",
    "\n",
    "result = minimize(cost_func_vqe, x0, args=(ansatz, observable, estimator), method=\"SLSQP\")\n",
    "\n",
    "result"
   ]
  },
  {
   "cell_type": "markdown",
   "id": "4fff8ad5-65e0-4b92-89eb-cc6775bbb290",
   "metadata": {},
   "source": [
    "### Global Optimizers"
   ]
  },
  {
   "cell_type": "markdown",
   "id": "616f2ef6-af13-4bc1-90f3-5979c5c74652",
   "metadata": {},
   "source": [
    "Global optimizers search for the point that minimizes the cost function over several regions of its domain (i.e., non-local), evaluating it iteratively over a set of parameter vectors. Hence, these processes are resistant towards local minima; however, they take long to converge."
   ]
  },
  {
   "cell_type": "markdown",
   "id": "b501a0af-e459-4429-8c6f-0ab2d9923c28",
   "metadata": {},
   "source": [
    "### Bootstrapping Optimization"
   ]
  },
  {
   "cell_type": "markdown",
   "id": "76f8cb2e-0ec5-4916-a289-b11c39ee65e4",
   "metadata": {},
   "source": [
    "Bootstrapping refers to the process of setting the initial value for parameters $\\vec \\theta$ based on a prior optimization to help the optimizer converge to a solution faster."
   ]
  },
  {
   "cell_type": "markdown",
   "id": "3333bfdd-d2a9-4093-b529-07b4f07673e0",
   "metadata": {},
   "source": [
    "### Gradient-based Optimization"
   ]
  },
  {
   "cell_type": "markdown",
   "id": "33fa5858-0798-4ae3-a23e-64aae4de7db0",
   "metadata": {},
   "source": [
    "If we have access to the gradient of the of the cost function $C(\\vec \\theta)$, we can minimize the cost function by iteratively choosing $\\vec\\theta_{n + 1} = \\vec \\theta_n - \\eta \\nabla C(\\vec \\theta_n)$ where $\\eta$ is the learning rate."
   ]
  },
  {
   "cell_type": "code",
   "execution_count": 9,
   "id": "b191bd40-6ed7-4fb8-a61c-ecfb6c00d38e",
   "metadata": {},
   "outputs": [
    {
     "data": {
      "text/plain": [
       "  message: Optimization terminated successfully.\n",
       "  success: True\n",
       "   status: 0\n",
       "      fun: -3.9999999999997593\n",
       "        x: [ 1.000e+00  1.000e+00  1.571e+00  2.943e-07  2.009e-01\n",
       "            -2.009e-01  6.342e-01 -6.342e-01]\n",
       "      nit: 14\n",
       "      jac: [ 2.980e-08  2.980e-08  9.537e-07  1.103e-06  3.278e-07\n",
       "             2.384e-07  1.192e-07  2.980e-08]\n",
       " hess_inv: [[ 1.000e+00  2.088e-08 ... -3.060e-06 -1.188e-06]\n",
       "            [ 2.088e-08  1.000e+00 ...  4.835e-05  3.922e-05]\n",
       "            ...\n",
       "            [-3.060e-06  4.835e-05 ...  7.243e-01 -2.603e-01]\n",
       "            [-1.188e-06  3.922e-05 ... -2.603e-01  8.180e-01]]\n",
       "     nfev: 144\n",
       "     njev: 16"
      ]
     },
     "execution_count": 9,
     "metadata": {},
     "output_type": "execute_result"
    }
   ],
   "source": [
    "from scipy.optimize import minimize\n",
    "\n",
    "x0 = np.ones(8)\n",
    "\n",
    "result = minimize(cost_func_vqe, x0, args=(ansatz, observable, estimator), method=\"BFGS\")\n",
    "\n",
    "result"
   ]
  },
  {
   "cell_type": "markdown",
   "id": "205ba86d-3201-46ef-a182-05bf11f509ee",
   "metadata": {},
   "source": [
    "### Gradient-free Optimization"
   ]
  },
  {
   "cell_type": "markdown",
   "id": "038a6c18-2978-464b-961f-9e7014872962",
   "metadata": {},
   "source": [
    "On the contrary, if we are unable/it is too expensive to calculate the gradient, we can utilize a variety of gradient-free optimization techniques such as the COBYLA optimizer. These techniques are generally more robust at finding global optima and can be used to avoid barren plateaus. "
   ]
  },
  {
   "cell_type": "code",
   "execution_count": 12,
   "id": "d6c49084-83b9-4f5c-a4b2-853519e0e560",
   "metadata": {},
   "outputs": [
    {
     "data": {
      "text/plain": [
       " message: Optimization terminated successfully.\n",
       " success: True\n",
       "  status: 1\n",
       "     fun: -3.9999999759379072\n",
       "       x: [ 1.497e+00  1.838e+00  1.571e+00  3.142e+00  1.515e+00\n",
       "           -1.626e+00  1.268e+00  1.874e+00]\n",
       "    nfev: 145\n",
       "   maxcv: 0.0"
      ]
     },
     "execution_count": 12,
     "metadata": {},
     "output_type": "execute_result"
    }
   ],
   "source": [
    "from scipy.optimize import minimize\n",
    "\n",
    "x0 = np.ones(8)\n",
    "\n",
    "result = minimize(cost_func_vqe, x0, args=(ansatz, observable, estimator), method=\"COBYLA\")\n",
    "\n",
    "result"
   ]
  }
 ],
 "metadata": {
  "kernelspec": {
   "display_name": "Python 3 (ipykernel)",
   "language": "python",
   "name": "python3"
  },
  "language_info": {
   "codemirror_mode": {
    "name": "ipython",
    "version": 3
   },
   "file_extension": ".py",
   "mimetype": "text/x-python",
   "name": "python",
   "nbconvert_exporter": "python",
   "pygments_lexer": "ipython3",
   "version": "3.11.7"
  }
 },
 "nbformat": 4,
 "nbformat_minor": 5
}
